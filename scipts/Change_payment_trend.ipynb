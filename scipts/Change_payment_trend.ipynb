{
 "cells": [
  {
   "cell_type": "code",
   "execution_count": 1,
   "metadata": {},
   "outputs": [],
   "source": [
    "from sklearn import linear_model\n",
    "\n",
    "import numpy as np\n",
    "from dateutil.parser import parse\n",
    "import pickle\n",
    "#citibike_path ='/Users/mohit/Documents/workspace/ProbStat/project/citibikes_demo_weather_clean.csv'\n",
    "citibike_path = '/Users/mohit/Documents/workspace/ProbStat/project/taxi_clean.csv'\n",
    "from collections import defaultdict\n",
    "from dateutil.parser import parse\n",
    "import datetime\n",
    "\n",
    "base = datetime.datetime(1970,1,1)\n",
    "# In[34]:\n",
    "def getTime(dateString):\n",
    "    dt = parse(dateString)\n",
    "    return (dt-base).total_seconds()\n",
    "\n",
    "\n",
    "citibike = open(citibike_path, 'r')\n",
    "credit = dict()\n",
    "cash = dict()\n",
    "index = 0\n",
    "for data in citibike:\n",
    "    try:\n",
    "        if index!=0:\n",
    "            arr = data.split(',')\n",
    "            if len(arr) > 10:\n",
    "                pickuptime = arr[0]\n",
    "                amount = arr[8]\n",
    "                typepay = arr[9]\n",
    "                if (pickuptime is not None and len(pickuptime)>0) and (amount is not None and len(amount)>0) and (typepay is not None and len(typepay)>0):\n",
    "                    seconds = getTime(pickuptime)\n",
    "                    startofday = seconds - seconds%86400\n",
    "                    arr = np.array([float(amount),1])\n",
    "                    zeros = np.zeros(2)\n",
    "                    if typepay == '1':\n",
    "                        if startofday in credit:\n",
    "                            credit[startofday] += arr\n",
    "                        else:\n",
    "                            credit[startofday] =arr\n",
    "                            \n",
    "                        if startofday in cash:\n",
    "                            cash[startofday] += zeros\n",
    "                        else:\n",
    "                            cash[startofday] =zeros\n",
    "                    if typepay == '2':\n",
    "                        if startofday in cash:\n",
    "                            cash[startofday] += arr\n",
    "                        else:\n",
    "                            cash[startofday] =arr\n",
    "                            \n",
    "                        if startofday in credit:\n",
    "                            credit[startofday] += zeros\n",
    "                        else:\n",
    "                            credit[startofday] =zeros\n",
    "    except Exception as e:\n",
    "        print(e)\n",
    "                            \n",
    "    index +=1\n",
    "            \n",
    "credit_list = sorted(credit.items()) # sorted by key, return a list of tuples\n",
    "\n",
    "credit_time, credit_amount = zip(*credit_list) # unpack a list of pairs into two tuples\n",
    "\n",
    "\n",
    "cash_list = sorted(cash.items()) # sorted by key, return a list of tuples\n",
    "\n",
    "cash_time, cash_amount = zip(*cash_list)\n",
    "\n",
    "#pickle.dump([credit_time, credit_amount,cash_time,cash_amount], open('/Users/mohit/Documents/workspace/ProbStat/project/creditvscash', 'wb'))\n",
    "\n",
    "            \n",
    "\n",
    "            \n",
    "            \n",
    "\n",
    "        \n",
    "  \n",
    "    \n",
    "    \n",
    "\n"
   ]
  },
  {
   "cell_type": "code",
   "execution_count": 5,
   "metadata": {},
   "outputs": [
    {
     "data": {
      "text/plain": [
       "(array([ 222.35,    8.  ]),\n",
       " array([ 187.77,   10.  ]),\n",
       " array([ 226.56,    9.  ]),\n",
       " array([ 395.34,   14.  ]),\n",
       " array([ 584.22,   24.  ]),\n",
       " array([ 212.63,   11.  ]),\n",
       " array([ 579.38,   31.  ]),\n",
       " array([ 652.47,   34.  ]),\n",
       " array([ 1206.2,    58. ]))"
      ]
     },
     "execution_count": 5,
     "metadata": {},
     "output_type": "execute_result"
    }
   ],
   "source": []
  },
  {
   "cell_type": "code",
   "execution_count": 7,
   "metadata": {},
   "outputs": [],
   "source": [
    "def movingAverage(aggregatedRes, k):\n",
    "    size = len(aggregatedRes)\n",
    "    if(size <= k):\n",
    "        return aggregatedRes\n",
    "    \n",
    "    res = list()\n",
    "    sum1 = 0\n",
    "    for i in range(0, k):\n",
    "        sum1 = sum1 + aggregatedRes[i];\n",
    "    index = 0;\n",
    "    res.append(sum1 / k);\n",
    "        \n",
    "    for i in range(k, size):\n",
    "        sum1 = sum1 - aggregatedRes[index];\n",
    "        sum1 = sum1 + aggregatedRes[i];\n",
    "        res.append(sum1 / k);\n",
    "        index = index + 1;\n",
    "        \n",
    "    return res;"
   ]
  },
  {
   "cell_type": "code",
   "execution_count": null,
   "metadata": {},
   "outputs": [],
   "source": []
  },
  {
   "cell_type": "code",
   "execution_count": 10,
   "metadata": {},
   "outputs": [],
   "source": [
    "import matplotlib.pyplot as plt\n",
    "import numpy as np\n",
    "get_ipython().magic(u'matplotlib inline')\n",
    "credit_avg_sum = []\n",
    "credit_count = []\n",
    "\n",
    "for i in range(len(credit_amount)):\n",
    "    \n",
    "    ele = credit_amount[i]\n",
    "    sum  = ele[0]\n",
    "    count = ele[1]\n",
    "    avg = 0.0\n",
    "    if count !=0.0:\n",
    "        avg = sum /count\n",
    "        \n",
    "    credit_avg_sum.append(sum)\n",
    "    credit_count.append(count)\n",
    "    \n",
    "cash_avg_sum = []\n",
    "cash_count = []\n",
    "\n",
    "for i in range(len(cash_amount)):\n",
    "    \n",
    "    ele = cash_amount[i]\n",
    "    sum  = ele[0]\n",
    "    count = ele[1]\n",
    "    avg = 0.0\n",
    "    if count !=0.0:\n",
    "        avg = sum /count\n",
    "        \n",
    "    cash_avg_sum.append(sum)\n",
    "    cash_count.append(count)\n",
    "    \n",
    "        \n",
    "    \n",
    "        \n",
    "\n",
    "    \n"
   ]
  },
  {
   "cell_type": "code",
   "execution_count": 15,
   "metadata": {},
   "outputs": [
    {
     "data": {
      "text/plain": [
       "631"
      ]
     },
     "execution_count": 15,
     "metadata": {},
     "output_type": "execute_result"
    }
   ],
   "source": [
    "len(cash_avg_sum)"
   ]
  },
  {
   "cell_type": "code",
   "execution_count": 13,
   "metadata": {},
   "outputs": [
    {
     "name": "stdout",
     "output_type": "stream",
     "text": [
      "Ks_2sampResult(statistic=0.22028526148969885, pvalue=6.5082156987858353e-14)\n",
      "Ks_2sampResult(statistic=0.25673534072900162, pvalue=9.5646011014723625e-19)\n"
     ]
    }
   ],
   "source": [
    "from scipy.stats import ks_2samp\n",
    "\n",
    "print(ks_2samp(credit_avg_sum, cash_avg_sum))\n",
    "\n",
    "print(ks_2samp(credit_count, cash_count))\n"
   ]
  },
  {
   "cell_type": "code",
   "execution_count": 14,
   "metadata": {},
   "outputs": [
    {
     "data": {
      "image/png": "[encoded data removed]",
      "text/plain": [
       "<matplotlib.figure.Figure at 0x113a6d940>"
      ]
     },
     "metadata": {},
     "output_type": "display_data"
    },
    {
     "data": {
      "image/png": "[encoded data removed]",
      "text/plain": [
       "<matplotlib.figure.Figure at 0x113b4f6d8>"
      ]
     },
     "metadata": {},
     "output_type": "display_data"
    }
   ],
   "source": [
    "size = len(credit_avg_sum)\n",
    "x = []\n",
    "for i  in range(size-29):\n",
    "    x.append(i)\n",
    "\n",
    "plt.scatter(x,movingAverage(credit_avg_sum,30),label=\"Credit card\")\n",
    "plt.scatter(x,movingAverage(cash_avg_sum,30),label=\"Cash\")\n",
    "plt.xlabel('Time(Days)')\n",
    "plt.ylabel('Amount')\n",
    "plt.legend()\n",
    "plt.title('Amount vs Time')\n",
    "#plt.savefig('/Users/mohit/Documents/workspace/ProbStat/project/amount.png')\n",
    "plt.show()\n",
    "\n",
    "plt.scatter(x,movingAverage(credit_count,30),label=\"Credit card\")\n",
    "plt.scatter(x,movingAverage(cash_count,30),label=\"Cash\")\n",
    "plt.xlabel('Time(Days)')\n",
    "plt.ylabel('Count')\n",
    "plt.legend()\n",
    "plt.title('Count vs Time')\n",
    "#plt.savefig('/Users/mohit/Documents/workspace/ProbStat/project/count.png')\n",
    "plt.show()"
   ]
  },
  {
   "cell_type": "code",
   "execution_count": null,
   "metadata": {},
   "outputs": [],
   "source": [
    "z = np.polyfit(credit_avg_sum, 3)  \n",
    "\n",
    "p = np.poly1d(z)\n",
    "\n",
    "plt.plot(p(credit_avg_sum),label=\"Credit card\")\n",
    "\n",
    "plt.show()"
   ]
  },
  {
   "cell_type": "code",
   "execution_count": null,
   "metadata": {},
   "outputs": [],
   "source": []
  }
 ],
 "metadata": {
  "kernelspec": {
   "display_name": "Python 3",
   "language": "python",
   "name": "python3"
  },
  "language_info": {
   "codemirror_mode": {
    "name": "ipython",
    "version": 3
   },
   "file_extension": ".py",
   "mimetype": "text/x-python",
   "name": "python",
   "nbconvert_exporter": "python",
   "pygments_lexer": "ipython3",
   "version": "3.5.0"
  }
 },
 "nbformat": 4,
 "nbformat_minor": 2
}
