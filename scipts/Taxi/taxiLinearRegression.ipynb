{
 "cells": [
  {
   "cell_type": "code",
   "execution_count": null,
   "metadata": {},
   "outputs": [],
   "source": [
    "import pandas as pd\n",
    "from sklearn import linear_model\n",
    "import matplotlib.pyplot as plt\n",
    "%matplotlib inline\n",
    "import seaborn as sns\n",
    "import numpy as np"
   ]
  },
  {
   "cell_type": "code",
   "execution_count": null,
   "metadata": {},
   "outputs": [],
   "source": [
    "taxiData = pd.read_csv('TaxiWeatherStation_50000_demo.csv')\n",
    "taxiData.head()\n",
    "taxiData = taxiData.drop(taxiData.columns[[0,1,2,3,4,5,10,11,12,13,14,15,16,17,18]],axis=1)\n",
    "taxiData.head()"
   ]
  },
  {
   "cell_type": "markdown",
   "metadata": {},
   "source": [
    "# Total Amount vs Trip Distance"
   ]
  },
  {
   "cell_type": "code",
   "execution_count": null,
   "metadata": {},
   "outputs": [],
   "source": [
    "regrA = linear_model.LinearRegression(fit_intercept=False)\n",
    "#X_taxiData = taxiData[['trip_distance']].values\n",
    "#Y_taxiData = taxiData['total_amount'].values\n",
    "#X_taxiData = X_taxiData.reshape(len(taxiData),1)\n",
    "#Y_taxiData = Y_taxiData.reshape(len(taxiData),1)\n",
    "Y_column = 'total_amount'\n",
    "X_column = 'trip_distance'\n",
    "X_values = []\n",
    "Y_values = []\n",
    "for i in range(len(taxiData)):\n",
    "    if int(taxiData.loc[i][[X_column]]) > 0 and int(taxiData.loc[i][[Y_column]]) > 0 and int(taxiData.loc[i][[Y_column]]) < 150:\n",
    "        X_values.append(taxiData.loc[i][[X_column]])\n",
    "        Y_values.append(taxiData.loc[i][[Y_column]])"
   ]
  },
  {
   "cell_type": "code",
   "execution_count": null,
   "metadata": {},
   "outputs": [],
   "source": [
    "print \"regression started\"\n",
    "regrA.fit(X_values[:int(.7*len(X_values))],Y_values[:int(.7*len(X_values))])\n",
    "print \"regression coefficients: \", str(regrA.coef_)"
   ]
  },
  {
   "cell_type": "code",
   "execution_count": null,
   "metadata": {},
   "outputs": [],
   "source": [
    "X_test = X_values[int(.7*len(X_values)):]\n",
    "Y_test = Y_values[int(.7*len(Y_values)):]\n",
    "Y_predicted = regrA.predict(X_test)\n",
    "#Y_res = (Y_predicted - Y_taxiData)\n",
    "#sns.regplot(np.reshape(X_,len(Y_predicted)), np.reshape(Y_res,len(Y_res)), color=\"g\")\n",
    "\n",
    "plt.scatter(X_test, Y_test, label = 'actual')\n",
    "plt.scatter(X_test,Y_predicted, label = 'predicted')\n",
    "plt.xlabel(X_column)\n",
    "plt.ylabel(Y_column)\n",
    "plt.legend()\n",
    "plt.show()"
   ]
  },
  {
   "cell_type": "code",
   "execution_count": null,
   "metadata": {},
   "outputs": [],
   "source": [
    "print \"MAPE: \" ,MAPE(Y_test, Y_predicted)\n",
    "print \"SSE: \"  ,SSE(Y_test, Y_predicted)"
   ]
  },
  {
   "cell_type": "markdown",
   "metadata": {},
   "source": [
    "# Tip% vs trip distance"
   ]
  },
  {
   "cell_type": "code",
   "execution_count": 3,
   "metadata": {},
   "outputs": [],
   "source": [
    "regrA = linear_model.LinearRegression(fit_intercept=False)\n",
    "#X_taxiData = taxiData[['trip_distance']].values\n",
    "#Y_taxiData = taxiData['total_amount'].values\n",
    "#X_taxiData = X_taxiData.reshape(len(taxiData),1)\n",
    "#Y_taxiData = Y_taxiData.reshape(len(taxiData),1)\n",
    "Y_column = 'tip_amount'\n",
    "X_column = 'trip_distance'\n",
    "X_values = []\n",
    "Y_values = []\n",
    "for i in range(len(taxiData)):\n",
    "    if int(taxiData.loc[i][[X_column]]) > 0 and int(taxiData.loc[i][[Y_column]]) > 0 and int(taxiData.loc[i][[Y_column]]) < 50:\n",
    "        X_values.append(taxiData.loc[i][[X_column]])\n",
    "        Y_values.append(taxiData.loc[i][[Y_column]])"
   ]
  },
  {
   "cell_type": "code",
   "execution_count": 8,
   "metadata": {},
   "outputs": [
    {
     "name": "stdout",
     "output_type": "stream",
     "text": [
      "regression started\n",
      "regression coefficients:  [[0.52860054]]\n"
     ]
    }
   ],
   "source": [
    "regrA = linear_model.LinearRegression(fit_intercept=True)\n",
    "print \"regression started\"\n",
    "regrA.fit(X_values[:int(.7*len(X_values))],Y_values[:int(.7*len(X_values))])\n",
    "print \"regression coefficients: \", str(regrA.coef_)"
   ]
  },
  {
   "cell_type": "code",
   "execution_count": 9,
   "metadata": {},
   "outputs": [
    {
     "name": "stdout",
     "output_type": "stream",
     "text": [
      "4929\n",
      "16428\n"
     ]
    },
    {
     "data": {
      "image/png": "[encoded data removed]",
      "text/plain": [
       "<Figure size 432x288 with 1 Axes>"
      ]
     },
     "metadata": {},
     "output_type": "display_data"
    }
   ],
   "source": [
    "X_test = X_values[int(.7*len(X_values)):]\n",
    "Y_test = Y_values[int(.7*len(Y_values)):]\n",
    "print len(X_test)\n",
    "print len(X_values)\n",
    "Y_predicted = regrA.predict(X_test)\n",
    "#Y_res = (Y_predicted - Y_taxiData)\n",
    "#sns.regplot(np.reshape(X_,len(Y_predicted)), np.reshape(Y_res,len(Y_res)), color=\"g\")\n",
    "\n",
    "plt.scatter(X_test, Y_test, label = 'actual')\n",
    "plt.scatter(X_test,Y_predicted, label = 'predicted')\n",
    "plt.xlabel(X_column)\n",
    "plt.ylabel(Y_column)\n",
    "plt.legend()\n",
    "plt.show()"
   ]
  },
  {
   "cell_type": "code",
   "execution_count": 6,
   "metadata": {},
   "outputs": [],
   "source": [
    "def SSE(Y_actual, Y_predicted):\n",
    "    return sum((Y_predicted - Y_actual)**2)/len(Y_predicted)\n",
    "def MAPE(Y_actual, Y_predicted):\n",
    "    return (100.0/len(Y_actual))* sum(abs((Y_predicted-Y_actual)/(Y_actual)))"
   ]
  },
  {
   "cell_type": "code",
   "execution_count": 10,
   "metadata": {},
   "outputs": [
    {
     "name": "stdout",
     "output_type": "stream",
     "text": [
      "MAPE:  [36.58384895]\n",
      "SSE:  [2.94482263]\n"
     ]
    }
   ],
   "source": [
    "print \"MAPE: \" ,MAPE(Y_test, Y_predicted)\n",
    "print \"SSE: \"  ,SSE(Y_test, Y_predicted)"
   ]
  },
  {
   "cell_type": "markdown",
   "metadata": {},
   "source": [
    "# Intercept true"
   ]
  },
  {
   "cell_type": "code",
   "execution_count": 11,
   "metadata": {},
   "outputs": [],
   "source": [
    "regrA = linear_model.LinearRegression(fit_intercept=True)\n",
    "#X_taxiData = taxiData[['trip_distance']].values\n",
    "#Y_taxiData = taxiData['total_amount'].values\n",
    "#X_taxiData = X_taxiData.reshape(len(taxiData),1)\n",
    "#Y_taxiData = Y_taxiData.reshape(len(taxiData),1)\n",
    "Y_column = 'total_amount'\n",
    "X_column = 'trip_distance'\n",
    "X_values = []\n",
    "Y_values = []\n",
    "for i in range(len(taxiData)):\n",
    "    if int(taxiData.loc[i][[X_column]]) > 0 and int(taxiData.loc[i][[Y_column]]) > 0 and int(taxiData.loc[i][[Y_column]]) < 150:\n",
    "        X_values.append(taxiData.loc[i][[X_column]])\n",
    "        Y_values.append(taxiData.loc[i][[Y_column]])"
   ]
  },
  {
   "cell_type": "code",
   "execution_count": 21,
   "metadata": {},
   "outputs": [
    {
     "name": "stdout",
     "output_type": "stream",
     "text": [
      "regression started\n",
      "regression coefficients:  [[3.19379263]]\n"
     ]
    }
   ],
   "source": [
    "regrA = linear_model.LinearRegression(fit_intercept=True)\n",
    "print \"regression started\"\n",
    "regrA.fit(X_values[:int(.7*len(X_values))],Y_values[:int(.7*len(X_values))])\n",
    "print \"regression coefficients: \", str(regrA.coef_)"
   ]
  },
  {
   "cell_type": "code",
   "execution_count": 22,
   "metadata": {},
   "outputs": [
    {
     "name": "stdout",
     "output_type": "stream",
     "text": [
      "14974\n",
      "49911\n"
     ]
    },
    {
     "data": {
      "image/png": "[encoded data removed]",
      "text/plain": [
       "<Figure size 432x288 with 1 Axes>"
      ]
     },
     "metadata": {},
     "output_type": "display_data"
    }
   ],
   "source": [
    "X_test = X_values[int(.7*len(X_values)):]\n",
    "Y_test = Y_values[int(.7*len(Y_values)):]\n",
    "print len(X_test)\n",
    "print len(X_values)\n",
    "Y_predicted = regrA.predict(X_test)\n",
    "#Y_res = (Y_predicted - Y_taxiData)\n",
    "#sns.regplot(np.reshape(X_,len(Y_predicted)), np.reshape(Y_res,len(Y_res)), color=\"g\")\n",
    "\n",
    "plt.scatter(X_test, Y_test, label = 'actual')\n",
    "plt.scatter(X_test,Y_predicted, label = 'predicted')\n",
    "plt.xlabel(X_column)\n",
    "plt.ylabel(Y_column)\n",
    "plt.legend()\n",
    "plt.savefig('Regression tip vs distance.png')\n",
    "plt.show()"
   ]
  },
  {
   "cell_type": "code",
   "execution_count": 23,
   "metadata": {},
   "outputs": [
    {
     "name": "stdout",
     "output_type": "stream",
     "text": [
      "MAPE:  [14.55318906]\n",
      "SSE:  [14.2295664]\n"
     ]
    }
   ],
   "source": [
    "print \"MAPE: \" ,MAPE(Y_test, Y_predicted)\n",
    "print \"SSE: \"  ,SSE(Y_test, Y_predicted)"
   ]
  },
  {
   "cell_type": "code",
   "execution_count": null,
   "metadata": {},
   "outputs": [],
   "source": []
  }
 ],
 "metadata": {
  "kernelspec": {
   "display_name": "Python 2",
   "language": "python",
   "name": "python2"
  },
  "language_info": {
   "codemirror_mode": {
    "name": "ipython",
    "version": 2
   },
   "file_extension": ".py",
   "mimetype": "text/x-python",
   "name": "python",
   "nbconvert_exporter": "python",
   "pygments_lexer": "ipython2",
   "version": "2.7.12"
  }
 },
 "nbformat": 4,
 "nbformat_minor": 2
}
