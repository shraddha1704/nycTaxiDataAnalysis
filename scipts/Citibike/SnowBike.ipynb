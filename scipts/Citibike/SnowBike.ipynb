{
 "cells": [
  {
   "cell_type": "code",
   "execution_count": 35,
   "metadata": {},
   "outputs": [],
   "source": [
    "import pandas as pd\n",
    "import numpy as np\n",
    "import collections\n",
    "import matplotlib.pyplot as plt\n",
    "from dateutil.parser import parse"
   ]
  },
  {
   "cell_type": "code",
   "execution_count": 36,
   "metadata": {},
   "outputs": [],
   "source": [
    "fileData = open('trips_clean.csv','r')\n",
    "#data = fileData[['snow_t']]\n",
    "#data = data.values\n",
    "#data = np.array(data).flatten()\n",
    "dic = collections.defaultdict(int)\n",
    "days = collections.defaultdict(list)\n",
    "#print data\n",
    "#data = np.array(data).flatten()"
   ]
  },
  {
   "cell_type": "code",
   "execution_count": 37,
   "metadata": {},
   "outputs": [
    {
     "name": "stdout",
     "output_type": "stream",
     "text": [
      "snow_t\n"
     ]
    }
   ],
   "source": [
    "bucket = 0.5\n",
    "data = fileData.readline()\n",
    "data = data.split(',')\n",
    "print data[11]\n",
    "lines = fileData.readlines()\n",
    "for val in lines:\n",
    "    val = val.split(',')\n",
    "    #print val\n",
    "    if float(val[11]) > 0.0:\n",
    "        #print val[11]\n",
    "        dic[int(float(val[11])/bucket)] += 1\n",
    "        \n",
    "        date = parse(val[1])\n",
    "        string = str(date.month)+'/'+str(date.day)+'/'+str(date.year)\n",
    "        if string not in days[int(float(val[11])/bucket)]:\n",
    "            days[int(float(val[11])/bucket)].append(string)\n",
    "            \n",
    "#print days"
   ]
  },
  {
   "cell_type": "code",
   "execution_count": 38,
   "metadata": {},
   "outputs": [
    {
     "name": "stdout",
     "output_type": "stream",
     "text": [
      "[0, 1, 2, 3, 6, 7, 8, 9, 10, 11, 15, 16, 19, 22]\n"
     ]
    }
   ],
   "source": [
    "prcp = sorted(dic)\n",
    "print prcp"
   ]
  },
  {
   "cell_type": "code",
   "execution_count": 39,
   "metadata": {},
   "outputs": [
    {
     "name": "stdout",
     "output_type": "stream",
     "text": [
      "[38763, 26527, 53996, 29457, 20982, 4702, 3905, 10647, 5044, 4118, 1633, 2578, 873, 3779]\n"
     ]
    }
   ],
   "source": [
    "result = []\n",
    "\n",
    "for each_prcp in prcp:\n",
    "    #print len(days[each_prcp])\n",
    "    result.append(dic[each_prcp])\n",
    "print result"
   ]
  },
  {
   "cell_type": "code",
   "execution_count": 40,
   "metadata": {},
   "outputs": [
    {
     "data": {
      "image/png": "[encoded data removed]",
      "text/plain": [
       "<matplotlib.figure.Figure at 0x7f7e0c838450>"
      ]
     },
     "metadata": {},
     "output_type": "display_data"
    }
   ],
   "source": [
    "plt.plot(result, label = \"snow(inches))\")\n",
    "plt.xticks([i for i in range(len(prcp))], prcp, rotation='vertical')\n",
    "\n",
    "plt.legend()\n",
    "plt.show()"
   ]
  },
  {
   "cell_type": "code",
   "execution_count": null,
   "metadata": {},
   "outputs": [],
   "source": []
  }
 ],
 "metadata": {
  "kernelspec": {
   "display_name": "Python 2",
   "language": "python",
   "name": "python2"
  },
  "language_info": {
   "codemirror_mode": {
    "name": "ipython",
    "version": 2
   },
   "file_extension": ".py",
   "mimetype": "text/x-python",
   "name": "python",
   "nbconvert_exporter": "python",
   "pygments_lexer": "ipython2",
   "version": "2.7.12"
  }
 },
 "nbformat": 4,
 "nbformat_minor": 2
}
