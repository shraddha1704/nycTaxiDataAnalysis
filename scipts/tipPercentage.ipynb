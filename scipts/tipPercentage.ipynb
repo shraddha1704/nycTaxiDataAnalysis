{
 "cells": [
  {
   "cell_type": "code",
   "execution_count": 87,
   "metadata": {},
   "outputs": [],
   "source": [
    "import pandas as pd\n",
    "from sklearn import linear_model\n",
    "import matplotlib.pyplot as plt\n",
    "%matplotlib inline\n",
    "import seaborn as sns\n",
    "import numpy as np\n",
    "import collections"
   ]
  },
  {
   "cell_type": "code",
   "execution_count": 88,
   "metadata": {
    "scrolled": true
   },
   "outputs": [],
   "source": [
    "taxiData = open('TaxiWeatherStation_demo.csv','r')\n",
    "#taxiData.head()\n",
    "#taxiData = taxiData.drop(taxiData.columns[[0,1,2,3,4,5,10,11,12,13,14,15,16,17,18]],axis=1)\n",
    "#taxiData.head()"
   ]
  },
  {
   "cell_type": "code",
   "execution_count": 89,
   "metadata": {},
   "outputs": [
    {
     "name": "stdout",
     "output_type": "stream",
     "text": [
      "defaultdict(<type 'int'>, {0: 45, 1: 3, 2: 3, 3: 6, 4: 10, 5: 11, 6: 13, 7: 14, 8: 17, 9: 18, 10: 21, 11: 22, 12: 18, 13: 23, 14: 19, 15: 19, 16: 15, 17: 17, 18: 14, 19: 13, 20: 89, 21: 9, 22: 7, 23: 6, 24: 6, 25: 46, 26: 3, 27: 5, 28: 1, 29: 5, 30: 29, 31: 3, 32: 3, 33: 5, 34: 2, 35: 4, 36: 3, 37: 2, 38: 4, 39: 2, 40: 3, 41: 2, 42: 2, 43: 4, 44: 2, 45: 2, 46: 1, 47: 1, 48: 1, 49: 0, 50: 2, 51: 0, 52: 2, 53: 2, 54: 1, 55: 1, 56: 1, 57: 1, 58: 0, 59: 1, 60: 1, 61: 1, 62: 0, 63: 1, 64: 1, 65: 0, 66: 0, 67: 2, 68: 1, 69: 0, 70: 0, 71: 1, 72: 0, 73: 0, 74: 0, 75: 0, 76: 1, 77: 0, 78: 0, 79: 0, 80: 1, 81: 0, 82: 1, 83: 1, 84: 0, 85: 0, 86: 1, 87: 0, 88: 1, 89: 0, 90: 0, 91: 0, 92: 1, 93: 0, 94: 0, 95: 0, 96: 0, 97: 0, 98: 0, 99: 0, 100: 9})\n"
     ]
    }
   ],
   "source": [
    "xData = []\n",
    "bucket = 1\n",
    "\n",
    "numberOfTrips = collections.defaultdict(int)\n",
    "for i in range(100):\n",
    "    numberOfTrips[i] = 0\n",
    "\n",
    "taxiData.readline()\n",
    "\n",
    "for line in taxiData.readlines():\n",
    "    line = line.split(',')\n",
    "    if int(line[9]) != 1:\n",
    "        continue\n",
    "    if float(line[8]) != 0.0:\n",
    "        if float(line[8])-float(line[7]) == 0.0:\n",
    "            numberOfTrips[100/bucket] += 1\n",
    "        else:\n",
    "            tipPerc = (float(line[7])/(float(line[8])-float(line[7])))\n",
    "            tipPerc = tipPerc/bucket\n",
    "            tipPerc = int(round(tipPerc * 100))\n",
    "            \n",
    "            if tipPerc > (100/bucket):\n",
    "                continue\n",
    "            numberOfTrips[tipPerc] += 1\n",
    "\n",
    "            #print tipPerc\n",
    "            \n",
    "for i in range(100):\n",
    "    numberOfTrips[i] = int(numberOfTrips[i]**0.5)\n",
    "            \n",
    "#numberOfTrips[0] = 1000\n",
    "    \n",
    "print numberOfTrips\n",
    "    "
   ]
  },
  {
   "cell_type": "code",
   "execution_count": 91,
   "metadata": {},
   "outputs": [
    {
     "name": "stdout",
     "output_type": "stream",
     "text": [
      "defaultdict(<type 'int'>, {0: 45, 1: 3, 2: 3, 3: 6, 4: 10, 5: 11, 6: 13, 7: 14, 8: 17, 9: 18, 10: 21, 11: 22, 12: 18, 13: 23, 14: 19, 15: 19, 16: 15, 17: 17, 18: 14, 19: 13, 20: 89, 21: 9, 22: 7, 23: 6, 24: 6, 25: 46, 26: 3, 27: 5, 28: 1, 29: 5, 30: 29, 31: 3, 32: 3, 33: 5, 34: 2, 35: 4, 36: 3, 37: 2, 38: 4, 39: 2, 40: 3, 41: 2, 42: 2, 43: 4, 44: 2, 45: 2, 46: 1, 47: 1, 48: 1, 49: 0, 50: 2, 51: 0, 52: 2, 53: 2, 54: 1, 55: 1, 56: 1, 57: 1, 58: 0, 59: 1, 60: 1, 61: 1, 62: 0, 63: 1, 64: 1, 65: 0, 66: 0, 67: 2, 68: 1, 69: 0, 70: 0, 71: 1, 72: 0, 73: 0, 74: 0, 75: 0, 76: 1, 77: 0, 78: 0, 79: 0, 80: 1, 81: 0, 82: 1, 83: 1, 84: 0, 85: 0, 86: 1, 87: 0, 88: 1, 89: 0, 90: 0, 91: 0, 92: 1, 93: 0, 94: 0, 95: 0, 96: 0, 97: 0, 98: 0, 99: 0, 100: 9})\n",
      "[0, 1, 2, 3, 4, 5, 6, 7, 8, 9, 10, 11, 12, 13, 14, 15, 16, 17, 18, 19, 20, 21, 22, 23, 24, 25, 26, 27, 28, 29, 30, 31, 32, 33, 34, 35, 36, 37, 38, 39, 40, 41, 42, 43, 44, 45, 46, 47, 48, 49, 50, 51, 52, 53, 54, 55, 56, 57, 58, 59, 60, 61, 62, 63, 64, 65, 66, 67, 68, 69, 70, 71, 72, 73, 74, 75, 76, 77, 78, 79, 80, 81, 82, 83, 84, 85, 86, 87, 88, 89, 90, 91, 92, 93, 94, 95, 96, 97, 98, 99, 100]\n"
     ]
    },
    {
     "data": {
      "image/png": "[encoded data removed]",
      "text/plain": [
       "<matplotlib.figure.Figure at 0x7f7f82fc0310>"
      ]
     },
     "metadata": {},
     "output_type": "display_data"
    },
    {
     "data": {
      "text/plain": [
       "<matplotlib.figure.Figure at 0x7f7f845ad990>"
      ]
     },
     "metadata": {},
     "output_type": "display_data"
    }
   ],
   "source": [
    "print numberOfTrips\n",
    "#plt.plot(numberOfTrips.values(), label = \"Tip percentage\")\n",
    "#plt.xticks(numberOfTrips.keys(), rotation='vertical')\n",
    "keys = numberOfTrips.keys()\n",
    "print keys\n",
    "#plt.hist(numberOfTrips.values())\n",
    "plt.bar(range(len(numberOfTrips.keys())), list(numberOfTrips.values()), align='center')\n",
    "\n",
    "plt.ylabel('Number of Trips (square root)')\n",
    "plt.xlabel('Percentage')\n",
    "plt.legend()\n",
    "plt.show()\n",
    "plt.savefig('Weather.png')"
   ]
  },
  {
   "cell_type": "code",
   "execution_count": null,
   "metadata": {},
   "outputs": [],
   "source": []
  }
 ],
 "metadata": {
  "kernelspec": {
   "display_name": "Python 2",
   "language": "python",
   "name": "python2"
  },
  "language_info": {
   "codemirror_mode": {
    "name": "ipython",
    "version": 2
   },
   "file_extension": ".py",
   "mimetype": "text/x-python",
   "name": "python",
   "nbconvert_exporter": "python",
   "pygments_lexer": "ipython2",
   "version": "2.7.14"
  }
 },
 "nbformat": 4,
 "nbformat_minor": 2
}
