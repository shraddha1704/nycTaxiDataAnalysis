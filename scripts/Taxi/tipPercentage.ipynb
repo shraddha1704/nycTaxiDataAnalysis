{
 "cells": [
  {
   "cell_type": "code",
   "execution_count": 15,
   "metadata": {},
   "outputs": [],
   "source": [
    "import pandas as pd\n",
    "from sklearn import linear_model\n",
    "import matplotlib.pyplot as plt\n",
    "%matplotlib inline\n",
    "import seaborn as sns\n",
    "import numpy as np\n",
    "import collections"
   ]
  },
  {
   "cell_type": "code",
   "execution_count": 23,
   "metadata": {
    "scrolled": true
   },
   "outputs": [],
   "source": [
    "taxiData = open('TaxiWeatherStation.csv','r')\n",
    "#taxiData.head()\n",
    "#taxiData = taxiData.drop(taxiData.columns[[0,1,2,3,4,5,10,11,12,13,14,15,16,17,18]],axis=1)\n",
    "#taxiData.head()"
   ]
  },
  {
   "cell_type": "code",
   "execution_count": 24,
   "metadata": {},
   "outputs": [
    {
     "name": "stdout",
     "output_type": "stream",
     "text": [
      "28297095\n",
      "defaultdict(<type 'int'>, {0: 1310, 1: 135, 2: 113, 3: 161, 4: 230, 5: 295, 6: 342, 7: 389, 8: 456, 9: 463, 10: 540, 11: 537, 12: 481, 13: 543, 14: 525, 15: 488, 16: 421, 17: 406, 18: 479, 19: 1257, 20: 2052, 21: 208, 22: 227, 23: 320, 24: 679, 25: 1031, 26: 142, 27: 183, 28: 308, 29: 427, 30: 665, 31: 107, 32: 104, 33: 108, 34: 88, 35: 81, 36: 86, 37: 67, 38: 95, 39: 61, 40: 72, 41: 74, 42: 63, 43: 77, 44: 62, 45: 54, 46: 55, 47: 48, 48: 56, 49: 47, 50: 54, 51: 52, 52: 34, 53: 45, 54: 43, 55: 37, 56: 41, 57: 42, 58: 30, 59: 40, 60: 39, 61: 29, 62: 24, 63: 37, 64: 32, 65: 28, 66: 18, 67: 36, 68: 33, 69: 22, 70: 23, 71: 29, 72: 21, 73: 17, 74: 25, 75: 22, 76: 18, 77: 23, 78: 21, 79: 18, 80: 20, 81: 18, 82: 18, 83: 19, 84: 15, 85: 18, 86: 16, 87: 16, 88: 20, 89: 13, 90: 14, 91: 17, 92: 15, 93: 18, 94: 15, 95: 17, 96: 15, 97: 17, 98: 13, 99: 11, 100: 57})\n"
     ]
    }
   ],
   "source": [
    "xData = []\n",
    "bucket = 1\n",
    "count=0\n",
    "numberOfTrips = collections.defaultdict(int)\n",
    "for i in range(100):\n",
    "    numberOfTrips[i] = 0\n",
    "\n",
    "taxiData.readline()\n",
    "\n",
    "for line in taxiData.readlines():\n",
    "    count+=1\n",
    "    line = line.split(',')\n",
    "    if int(line[9]) != 1:\n",
    "        continue\n",
    "    if float(line[8]) != 0.0:\n",
    "        if float(line[8])-float(line[7]) == 0.0:\n",
    "            numberOfTrips[100/bucket] += 1\n",
    "            continue\n",
    "        else:\n",
    "            tipPerc = (float(line[7])/(float(line[8])-float(line[7])))\n",
    "            tipPerc = tipPerc/bucket\n",
    "            tipPerc = int(round(tipPerc * 100))\n",
    "            \n",
    "            if tipPerc > (100/bucket):\n",
    "                continue\n",
    "            numberOfTrips[tipPerc] += 1\n",
    "\n",
    "            #print tipPerc\n",
    "            \n",
    "for i in range(101):\n",
    "    numberOfTrips[i] = int(numberOfTrips[i]**0.5)\n",
    "print count            \n",
    "#numberOfTrips[0] = 1000\n",
    "    \n",
    "print numberOfTrips\n",
    "    "
   ]
  },
  {
   "cell_type": "code",
   "execution_count": 21,
   "metadata": {},
   "outputs": [
    {
     "name": "stdout",
     "output_type": "stream",
     "text": [
      "28297095\n",
      "defaultdict(<type 'int'>, {0: 1310, 1: 135, 2: 113, 3: 161, 4: 230, 5: 295, 6: 342, 7: 389, 8: 456, 9: 463, 10: 540, 11: 537, 12: 481, 13: 543, 14: 525, 15: 488, 16: 421, 17: 406, 18: 479, 19: 1257, 20: 2052, 21: 208, 22: 227, 23: 320, 24: 679, 25: 1031, 26: 142, 27: 183, 28: 308, 29: 427, 30: 665, 31: 107, 32: 104, 33: 108, 34: 88, 35: 81, 36: 86, 37: 67, 38: 95, 39: 61, 40: 72, 41: 74, 42: 63, 43: 77, 44: 62, 45: 54, 46: 55, 47: 48, 48: 56, 49: 47, 50: 54, 51: 52, 52: 34, 53: 45, 54: 43, 55: 37, 56: 41, 57: 42, 58: 30, 59: 40, 60: 39, 61: 29, 62: 24, 63: 37, 64: 32, 65: 28, 66: 18, 67: 36, 68: 33, 69: 22, 70: 23, 71: 29, 72: 21, 73: 17, 74: 25, 75: 22, 76: 18, 77: 23, 78: 21, 79: 18, 80: 20, 81: 18, 82: 18, 83: 19, 84: 15, 85: 18, 86: 16, 87: 16, 88: 20, 89: 13, 90: 14, 91: 17, 92: 15, 93: 18, 94: 15, 95: 17, 96: 15, 97: 17, 98: 13, 99: 11, 100: 38})\n"
     ]
    }
   ],
   "source": []
  },
  {
   "cell_type": "code",
   "execution_count": 26,
   "metadata": {},
   "outputs": [
    {
     "name": "stdout",
     "output_type": "stream",
     "text": [
      "defaultdict(<type 'int'>, {0: 1310, 1: 135, 2: 113, 3: 161, 4: 230, 5: 295, 6: 342, 7: 389, 8: 456, 9: 463, 10: 540, 11: 537, 12: 481, 13: 543, 14: 525, 15: 488, 16: 421, 17: 406, 18: 479, 19: 1257, 20: 2052, 21: 208, 22: 227, 23: 320, 24: 679, 25: 1031, 26: 142, 27: 183, 28: 308, 29: 427, 30: 665, 31: 107, 32: 104, 33: 108, 34: 88, 35: 81, 36: 86, 37: 67, 38: 95, 39: 61, 40: 72, 41: 74, 42: 63, 43: 77, 44: 62, 45: 54, 46: 55, 47: 48, 48: 56, 49: 47, 50: 54, 51: 52, 52: 34, 53: 45, 54: 43, 55: 37, 56: 41, 57: 42, 58: 30, 59: 40, 60: 39, 61: 29, 62: 24, 63: 37, 64: 32, 65: 28, 66: 18, 67: 36, 68: 33, 69: 22, 70: 23, 71: 29, 72: 21, 73: 17, 74: 25, 75: 22, 76: 18, 77: 23, 78: 21, 79: 18, 80: 20, 81: 18, 82: 18, 83: 19, 84: 15, 85: 18, 86: 16, 87: 16, 88: 20, 89: 13, 90: 14, 91: 17, 92: 15, 93: 18, 94: 15, 95: 17, 96: 15, 97: 17, 98: 13, 99: 11, 100: 57})\n",
      "[0, 1, 2, 3, 4, 5, 6, 7, 8, 9, 10, 11, 12, 13, 14, 15, 16, 17, 18, 19, 20, 21, 22, 23, 24, 25, 26, 27, 28, 29, 30, 31, 32, 33, 34, 35, 36, 37, 38, 39, 40, 41, 42, 43, 44, 45, 46, 47, 48, 49, 50, 51, 52, 53, 54, 55, 56, 57, 58, 59, 60, 61, 62, 63, 64, 65, 66, 67, 68, 69, 70, 71, 72, 73, 74, 75, 76, 77, 78, 79, 80, 81, 82, 83, 84, 85, 86, 87, 88, 89, 90, 91, 92, 93, 94, 95, 96, 97, 98, 99, 100]\n"
     ]
    },
    {
     "data": {
      "image/png": "[encoded data removed]",
      "text/plain": [
       "<Figure size 432x288 with 1 Axes>"
      ]
     },
     "metadata": {},
     "output_type": "display_data"
    },
    {
     "data": {
      "text/plain": [
       "<Figure size 432x288 with 0 Axes>"
      ]
     },
     "metadata": {},
     "output_type": "display_data"
    }
   ],
   "source": [
    "print numberOfTrips\n",
    "#plt.plot(numberOfTrips.values(), label = \"Tip percentage\")\n",
    "#plt.xticks(numberOfTrips.keys(), rotation='vertical')\n",
    "keys = numberOfTrips.keys()\n",
    "print keys\n",
    "#plt.hist(numberOfTrips.values())\n",
    "plt.bar(range(len(numberOfTrips.keys())), list(numberOfTrips.values()), align='center')\n",
    "\n",
    "plt.ylabel('Number of Trips (square root)')\n",
    "plt.xlabel('Tip Percentage')\n",
    "plt.title('Tip Percentage vs Trip Count')\n",
    "plt.legend()\n",
    "plt.show()\n",
    "plt.savefig('Weather.png')"
   ]
  },
  {
   "cell_type": "code",
   "execution_count": null,
   "metadata": {},
   "outputs": [],
   "source": []
  },
  {
   "cell_type": "code",
   "execution_count": null,
   "metadata": {},
   "outputs": [],
   "source": []
  }
 ],
 "metadata": {
  "kernelspec": {
   "display_name": "Python 2",
   "language": "python",
   "name": "python2"
  },
  "language_info": {
   "codemirror_mode": {
    "name": "ipython",
    "version": 2
   },
   "file_extension": ".py",
   "mimetype": "text/x-python",
   "name": "python",
   "nbconvert_exporter": "python",
   "pygments_lexer": "ipython2",
   "version": "2.7.12"
  }
 },
 "nbformat": 4,
 "nbformat_minor": 2
}
