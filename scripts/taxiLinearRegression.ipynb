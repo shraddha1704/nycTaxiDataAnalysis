{
 "cells": [
  {
   "cell_type": "code",
   "execution_count": 1,
   "metadata": {},
   "outputs": [],
   "source": [
    "import pandas as pd\n",
    "from sklearn import linear_model\n",
    "import matplotlib.pyplot as plt\n",
    "%matplotlib inline\n",
    "import seaborn as sns\n",
    "import numpy as np"
   ]
  },
  {
   "cell_type": "code",
   "execution_count": 15,
   "metadata": {},
   "outputs": [
    {
     "data": {
      "text/html": [
       "<div>\n",
       "<style scoped>\n",
       "    .dataframe tbody tr th:only-of-type {\n",
       "        vertical-align: middle;\n",
       "    }\n",
       "\n",
       "    .dataframe tbody tr th {\n",
       "        vertical-align: top;\n",
       "    }\n",
       "\n",
       "    .dataframe thead th {\n",
       "        text-align: right;\n",
       "    }\n",
       "</style>\n",
       "<table border=\"1\" class=\"dataframe\">\n",
       "  <thead>\n",
       "    <tr style=\"text-align: right;\">\n",
       "      <th></th>\n",
       "      <th>pickup_datetime</th>\n",
       "      <th>pickup_longitude</th>\n",
       "      <th>pickup_latitude</th>\n",
       "      <th>dropoff_longitude</th>\n",
       "      <th>dropoff_latitude</th>\n",
       "      <th>passenger_count</th>\n",
       "      <th>trip_distance</th>\n",
       "      <th>tip_amount</th>\n",
       "      <th>total_amount</th>\n",
       "      <th>payment_type</th>\n",
       "      <th>pickup_nyct2010_gid</th>\n",
       "      <th>dropoff_nyct2010_gid</th>\n",
       "      <th>pickup_location_id</th>\n",
       "      <th>dropoff_location_id</th>\n",
       "      <th>pickup</th>\n",
       "      <th>dropoff</th>\n",
       "      <th>prcp</th>\n",
       "      <th>snow</th>\n",
       "      <th>t_avg</th>\n",
       "    </tr>\n",
       "  </thead>\n",
       "  <tbody>\n",
       "    <tr>\n",
       "      <th>0</th>\n",
       "      <td>2013-08-08 11:50:09</td>\n",
       "      <td>-73.879478</td>\n",
       "      <td>40.806896</td>\n",
       "      <td>-73.882095</td>\n",
       "      <td>40.840988</td>\n",
       "      <td>5</td>\n",
       "      <td>3.03</td>\n",
       "      <td>0.0</td>\n",
       "      <td>14.5</td>\n",
       "      <td>2</td>\n",
       "      <td>1452</td>\n",
       "      <td>1214</td>\n",
       "      <td>126</td>\n",
       "      <td>78</td>\n",
       "      <td>0101000020E610000000000060497852C0000000604867...</td>\n",
       "      <td>0101000020E610000000000040747852C000000080A56B...</td>\n",
       "      <td>0.46</td>\n",
       "      <td>0.0</td>\n",
       "      <td>75.5</td>\n",
       "    </tr>\n",
       "    <tr>\n",
       "      <th>1</th>\n",
       "      <td>2013-08-08 14:25:39</td>\n",
       "      <td>-73.887299</td>\n",
       "      <td>40.859505</td>\n",
       "      <td>-74.001541</td>\n",
       "      <td>40.719810</td>\n",
       "      <td>1</td>\n",
       "      <td>16.87</td>\n",
       "      <td>0.0</td>\n",
       "      <td>50.0</td>\n",
       "      <td>2</td>\n",
       "      <td>505</td>\n",
       "      <td>1808</td>\n",
       "      <td>20</td>\n",
       "      <td>211</td>\n",
       "      <td>0101000020E610000000000080C97852C000000040046E...</td>\n",
       "      <td>0101000020E610000000000040198052C0000000C0225C...</td>\n",
       "      <td>0.46</td>\n",
       "      <td>0.0</td>\n",
       "      <td>75.5</td>\n",
       "    </tr>\n",
       "    <tr>\n",
       "      <th>2</th>\n",
       "      <td>2013-08-08 16:07:41</td>\n",
       "      <td>-73.920647</td>\n",
       "      <td>40.860287</td>\n",
       "      <td>-73.904640</td>\n",
       "      <td>40.869423</td>\n",
       "      <td>5</td>\n",
       "      <td>1.84</td>\n",
       "      <td>0.0</td>\n",
       "      <td>12.5</td>\n",
       "      <td>2</td>\n",
       "      <td>1914</td>\n",
       "      <td>1408</td>\n",
       "      <td>127</td>\n",
       "      <td>136</td>\n",
       "      <td>0101000020E6100000000000E0EB7A52C0000000E01D6E...</td>\n",
       "      <td>0101000020E6100000000000A0E57952C000000040496F...</td>\n",
       "      <td>0.46</td>\n",
       "      <td>0.0</td>\n",
       "      <td>75.5</td>\n",
       "    </tr>\n",
       "    <tr>\n",
       "      <th>3</th>\n",
       "      <td>2013-08-08 17:28:13</td>\n",
       "      <td>-73.941147</td>\n",
       "      <td>40.839417</td>\n",
       "      <td>-73.987259</td>\n",
       "      <td>40.752224</td>\n",
       "      <td>5</td>\n",
       "      <td>7.68</td>\n",
       "      <td>0.0</td>\n",
       "      <td>30.5</td>\n",
       "      <td>2</td>\n",
       "      <td>911</td>\n",
       "      <td>900</td>\n",
       "      <td>244</td>\n",
       "      <td>100</td>\n",
       "      <td>0101000020E6100000000000C03B7C52C000000000726B...</td>\n",
       "      <td>0101000020E6100000000000402F7F52C0000000E04860...</td>\n",
       "      <td>0.46</td>\n",
       "      <td>0.0</td>\n",
       "      <td>75.5</td>\n",
       "    </tr>\n",
       "    <tr>\n",
       "      <th>4</th>\n",
       "      <td>2013-08-08 18:03:16</td>\n",
       "      <td>-73.987190</td>\n",
       "      <td>40.752079</td>\n",
       "      <td>-74.005257</td>\n",
       "      <td>40.740551</td>\n",
       "      <td>5</td>\n",
       "      <td>1.65</td>\n",
       "      <td>0.0</td>\n",
       "      <td>11.5</td>\n",
       "      <td>2</td>\n",
       "      <td>900</td>\n",
       "      <td>1359</td>\n",
       "      <td>100</td>\n",
       "      <td>158</td>\n",
       "      <td>0101000020E6100000000000202E7F52C0000000204460...</td>\n",
       "      <td>0101000020E610000000000020568052C000000060CA5E...</td>\n",
       "      <td>0.46</td>\n",
       "      <td>0.0</td>\n",
       "      <td>75.5</td>\n",
       "    </tr>\n",
       "  </tbody>\n",
       "</table>\n",
       "</div>"
      ],
      "text/plain": [
       "       pickup_datetime  pickup_longitude  pickup_latitude  dropoff_longitude  \\\n",
       "0  2013-08-08 11:50:09        -73.879478        40.806896         -73.882095   \n",
       "1  2013-08-08 14:25:39        -73.887299        40.859505         -74.001541   \n",
       "2  2013-08-08 16:07:41        -73.920647        40.860287         -73.904640   \n",
       "3  2013-08-08 17:28:13        -73.941147        40.839417         -73.987259   \n",
       "4  2013-08-08 18:03:16        -73.987190        40.752079         -74.005257   \n",
       "\n",
       "   dropoff_latitude  passenger_count  trip_distance  tip_amount  total_amount  \\\n",
       "0         40.840988                5           3.03         0.0          14.5   \n",
       "1         40.719810                1          16.87         0.0          50.0   \n",
       "2         40.869423                5           1.84         0.0          12.5   \n",
       "3         40.752224                5           7.68         0.0          30.5   \n",
       "4         40.740551                5           1.65         0.0          11.5   \n",
       "\n",
       "   payment_type  pickup_nyct2010_gid  dropoff_nyct2010_gid  \\\n",
       "0             2                 1452                  1214   \n",
       "1             2                  505                  1808   \n",
       "2             2                 1914                  1408   \n",
       "3             2                  911                   900   \n",
       "4             2                  900                  1359   \n",
       "\n",
       "   pickup_location_id  dropoff_location_id  \\\n",
       "0                 126                   78   \n",
       "1                  20                  211   \n",
       "2                 127                  136   \n",
       "3                 244                  100   \n",
       "4                 100                  158   \n",
       "\n",
       "                                              pickup  \\\n",
       "0  0101000020E610000000000060497852C0000000604867...   \n",
       "1  0101000020E610000000000080C97852C000000040046E...   \n",
       "2  0101000020E6100000000000E0EB7A52C0000000E01D6E...   \n",
       "3  0101000020E6100000000000C03B7C52C000000000726B...   \n",
       "4  0101000020E6100000000000202E7F52C0000000204460...   \n",
       "\n",
       "                                             dropoff  prcp  snow  t_avg  \n",
       "0  0101000020E610000000000040747852C000000080A56B...  0.46   0.0   75.5  \n",
       "1  0101000020E610000000000040198052C0000000C0225C...  0.46   0.0   75.5  \n",
       "2  0101000020E6100000000000A0E57952C000000040496F...  0.46   0.0   75.5  \n",
       "3  0101000020E6100000000000402F7F52C0000000E04860...  0.46   0.0   75.5  \n",
       "4  0101000020E610000000000020568052C000000060CA5E...  0.46   0.0   75.5  "
      ]
     },
     "execution_count": 15,
     "metadata": {},
     "output_type": "execute_result"
    }
   ],
   "source": [
    "taxiData = pd.read_csv('TaxiWeatherStation_demo.csv')\n",
    "taxiData.head()\n",
    "taxiData = taxiData.drop(taxiData.columns[[0,1,2,3,4,5,10,11,12,13,14,15,16,17,18]],axis=1)\n",
    "taxiData.head()"
   ]
  },
  {
   "cell_type": "code",
   "execution_count": 60,
   "metadata": {},
   "outputs": [
    {
     "name": "stdout",
     "output_type": "stream",
     "text": [
      "regression coefficients [[0.56766345]]\n"
     ]
    }
   ],
   "source": [
    "regrA = linear_model.LinearRegression(fit_intercept=False)\n",
    "#X_taxiData = taxiData[['trip_distance']].values\n",
    "#Y_taxiData = taxiData['total_amount'].values\n",
    "#X_taxiData = X_taxiData.reshape(len(taxiData),1)\n",
    "#Y_taxiData = Y_taxiData.reshape(len(taxiData),1)\n",
    "Y_column = 'tip_amount'\n",
    "X_column = 'trip_distance'\n",
    "X_values = []\n",
    "Y_values = []\n",
    "for i in range(len(taxiData)):\n",
    "    if int(taxiData.loc[i][[X_column]]) > 20 and int(taxiData.loc[i][[Y_column]]) > 0 and int(taxiData.loc[i][[Y_column]]) < 50:\n",
    "        X_values.append(taxiData.loc[i][[X_column]])\n",
    "        Y_values.append(taxiData.loc[i][[Y_column]])\n",
    "    else:\n",
    "        count+=1\n",
    "regrA.fit(X_values,Y_values)\n",
    "print \"regression coefficients\", str(regrA.coef_)"
   ]
  },
  {
   "cell_type": "code",
   "execution_count": 61,
   "metadata": {},
   "outputs": [
    {
     "ename": "TypeError",
     "evalue": "'str' object is not callable",
     "output_type": "error",
     "traceback": [
      "\u001b[0;31m-------------------------------------------\u001b[0m",
      "\u001b[0;31mTypeError\u001b[0m Traceback (most recent call last)",
      "\u001b[0;32m<ipython-input-61-c9e31c900b93>\u001b[0m in \u001b[0;36m<module>\u001b[0;34m()\u001b[0m\n\u001b[1;32m      4\u001b[0m \u001b[0mplt\u001b[0m\u001b[0;34m.\u001b[0m\u001b[0mscatter\u001b[0m\u001b[0;34m(\u001b[0m\u001b[0mX_values\u001b[0m\u001b[0;34m,\u001b[0m\u001b[0mY_predicted\u001b[0m\u001b[0;34m,\u001b[0m \u001b[0mlabel\u001b[0m \u001b[0;34m=\u001b[0m \u001b[0;34m'predicted'\u001b[0m\u001b[0;34m)\u001b[0m\u001b[0;34m\u001b[0m\u001b[0m\n\u001b[1;32m      5\u001b[0m \u001b[0mplt\u001b[0m\u001b[0;34m.\u001b[0m\u001b[0mscatter\u001b[0m\u001b[0;34m(\u001b[0m\u001b[0mX_values\u001b[0m\u001b[0;34m,\u001b[0m \u001b[0mY_values\u001b[0m\u001b[0;34m,\u001b[0m \u001b[0mlabel\u001b[0m \u001b[0;34m=\u001b[0m \u001b[0;34m'actual'\u001b[0m\u001b[0;34m)\u001b[0m\u001b[0;34m\u001b[0m\u001b[0m\n\u001b[0;32m----> 6\u001b[0;31m \u001b[0mplt\u001b[0m\u001b[0;34m.\u001b[0m\u001b[0mxlabel\u001b[0m\u001b[0;34m(\u001b[0m\u001b[0;34m'trip_distance'\u001b[0m\u001b[0;34m)\u001b[0m\u001b[0;34m\u001b[0m\u001b[0m\n\u001b[0m\u001b[1;32m      7\u001b[0m \u001b[0mplt\u001b[0m\u001b[0;34m.\u001b[0m\u001b[0mylabel\u001b[0m\u001b[0;34m(\u001b[0m\u001b[0;34m'total_amount'\u001b[0m\u001b[0;34m)\u001b[0m\u001b[0;34m\u001b[0m\u001b[0m\n\u001b[1;32m      8\u001b[0m \u001b[0mplt\u001b[0m\u001b[0;34m.\u001b[0m\u001b[0mlegend\u001b[0m\u001b[0;34m(\u001b[0m\u001b[0;34m)\u001b[0m\u001b[0;34m\u001b[0m\u001b[0m\n",
      "\u001b[0;31mTypeError\u001b[0m: 'str' object is not callable"
     ]
    },
    {
     "data": {
      "image/png": "[encoded data removed]",
      "text/plain": [
       "<matplotlib.figure.Figure at 0x7f18127098d0>"
      ]
     },
     "metadata": {},
     "output_type": "display_data"
    }
   ],
   "source": [
    "Y_predicted = regrA.predict(X_values)\n",
    "#Y_res = (Y_predicted - Y_taxiData)\n",
    "#sns.regplot(np.reshape(X_,len(Y_predicted)), np.reshape(Y_res,len(Y_res)), color=\"g\")\n",
    "plt.scatter(X_values,Y_predicted, label = 'predicted')\n",
    "plt.scatter(X_values, Y_values, label = 'actual')\n",
    "plt.xlabel('trip_distance')\n",
    "plt.ylabel('total_amount')\n",
    "plt.xlabel('Smarts')\n",
    "plt.ylabel('Probability')\n",
    "plt.legend()\n",
    "plt.show()"
   ]
  },
  {
   "cell_type": "code",
   "execution_count": 25,
   "metadata": {},
   "outputs": [
    {
     "name": "stdout",
     "output_type": "stream",
     "text": [
      "0\n"
     ]
    }
   ],
   "source": []
  },
  {
   "cell_type": "code",
   "execution_count": 46,
   "metadata": {},
   "outputs": [],
   "source": []
  },
  {
   "cell_type": "code",
   "execution_count": 47,
   "metadata": {},
   "outputs": [
    {
     "data": {
      "text/plain": [
       "<matplotlib.collections.PathCollection at 0x7f1813ad7250>"
      ]
     },
     "execution_count": 47,
     "metadata": {},
     "output_type": "execute_result"
    },
    {
     "data": {
      "image/png": "[encoded data removed]",
      "text/plain": [
       "<matplotlib.figure.Figure at 0x7f18079f43d0>"
      ]
     },
     "metadata": {},
     "output_type": "display_data"
    }
   ],
   "source": []
  },
  {
   "cell_type": "code",
   "execution_count": 41,
   "metadata": {},
   "outputs": [
    {
     "name": "stdout",
     "output_type": "stream",
     "text": [
      "86\n"
     ]
    }
   ],
   "source": [
    "print count"
   ]
  },
  {
   "cell_type": "code",
   "execution_count": null,
   "metadata": {},
   "outputs": [],
   "source": []
  }
 ],
 "metadata": {
  "kernelspec": {
   "display_name": "Python 2",
   "language": "python",
   "name": "python2"
  },
  "language_info": {
   "codemirror_mode": {
    "name": "ipython",
    "version": 2
   },
   "file_extension": ".py",
   "mimetype": "text/x-python",
   "name": "python",
   "nbconvert_exporter": "python",
   "pygments_lexer": "ipython2",
   "version": "2.7.14"
  }
 },
 "nbformat": 4,
 "nbformat_minor": 2
}
