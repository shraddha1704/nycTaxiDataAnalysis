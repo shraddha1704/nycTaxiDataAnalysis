{
 "cells": [
  {
   "cell_type": "code",
   "execution_count": 1,
   "metadata": {},
   "outputs": [],
   "source": [
    "import pandas as pd\n",
    "import numpy as np\n",
    "import collections\n",
    "import matplotlib.pyplot as plt\n",
    "from dateutil.parser import parse"
   ]
  },
  {
   "cell_type": "code",
   "execution_count": 8,
   "metadata": {},
   "outputs": [],
   "source": [
    "fileData = open('trips_clean_500000.csv','r')\n",
    "\n",
    "dic = collections.defaultdict(int)\n",
    "days = collections.defaultdict(list)\n"
   ]
  },
  {
   "cell_type": "code",
   "execution_count": 9,
   "metadata": {},
   "outputs": [
    {
     "name": "stdout",
     "output_type": "stream",
     "text": [
      "prcp\n"
     ]
    }
   ],
   "source": [
    "bucket = 0.2\n",
    "data = fileData.readline()\n",
    "data = data.split(',')\n",
    "print data[10]\n",
    "lines = fileData.readlines()\n",
    "for val in lines:\n",
    "    val = val.split(',')\n",
    "    #print val\n",
    "    if float(val[10]) > 0.0:\n",
    "        #print val[10]\n",
    "        dic[int(float(val[10])/bucket)] += 1\n",
    "        \n",
    "        date = parse(val[1])\n",
    "        string = str(date.month)+'/'+str(date.day)+'/'+str(date.year)\n",
    "        if string not in days[int(float(val[10])/bucket)]:\n",
    "            days[int(float(val[10])/bucket)].append(string)\n",
    "            \n",
    "#print days"
   ]
  },
  {
   "cell_type": "code",
   "execution_count": 10,
   "metadata": {},
   "outputs": [
    {
     "name": "stdout",
     "output_type": "stream",
     "text": [
      "[0, 1, 2, 3, 4, 5, 6, 7, 8, 9, 10, 12, 24]\n"
     ]
    }
   ],
   "source": [
    "prcp = sorted(dic)\n",
    "print prcp"
   ]
  },
  {
   "cell_type": "code",
   "execution_count": 11,
   "metadata": {},
   "outputs": [
    {
     "name": "stdout",
     "output_type": "stream",
     "text": [
      "[20325, 17990, 17437, 11977, 17394, 11070, 17367, 12290, 17966, 13427, 1768, 6675, 2818]\n"
     ]
    }
   ],
   "source": [
    "result = []\n",
    "\n",
    "for each_prcp in prcp:\n",
    "    #print len(days[each_prcp])\n",
    "    result.append(dic[each_prcp]/len(days[each_prcp]))\n",
    "print result"
   ]
  },
  {
   "cell_type": "code",
   "execution_count": 12,
   "metadata": {},
   "outputs": [
    {
     "data": {
      "image/png": "[encoded data removed]",
      "text/plain": [
       "<matplotlib.figure.Figure at 0x7fd62eef6650>"
      ]
     },
     "metadata": {},
     "output_type": "display_data"
    }
   ],
   "source": [
    "plt.plot(result, label = \"snow(inches))\")\n",
    "plt.xticks([i for i in range(len(prcp))], prcp, rotation='vertical')\n",
    "\n",
    "plt.legend()\n",
    "plt.show()"
   ]
  },
  {
   "cell_type": "code",
   "execution_count": null,
   "metadata": {},
   "outputs": [],
   "source": []
  }
 ],
 "metadata": {
  "kernelspec": {
   "display_name": "Python 2",
   "language": "python",
   "name": "python2"
  },
  "language_info": {
   "codemirror_mode": {
    "name": "ipython",
    "version": 2
   },
   "file_extension": ".py",
   "mimetype": "text/x-python",
   "name": "python",
   "nbconvert_exporter": "python",
   "pygments_lexer": "ipython2",
   "version": "2.7.12"
  }
 },
 "nbformat": 4,
 "nbformat_minor": 2
}
