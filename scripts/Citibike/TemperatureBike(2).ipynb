{
 "cells": [
  {
   "cell_type": "code",
   "execution_count": 4,
   "metadata": {},
   "outputs": [],
   "source": [
    "import pandas as pd\n",
    "import numpy as np\n",
    "import collections\n",
    "import matplotlib.pyplot as plt\n",
    "from dateutil.parser import parse"
   ]
  },
  {
   "cell_type": "code",
   "execution_count": 5,
   "metadata": {},
   "outputs": [],
   "source": [
    "fileData = open('trips_clean.csv','r')\n",
    "\n",
    "dic = collections.defaultdict(int)\n",
    "days = collections.defaultdict(list)\n"
   ]
  },
  {
   "cell_type": "code",
   "execution_count": null,
   "metadata": {},
   "outputs": [
    {
     "name": "stdout",
     "output_type": "stream",
     "text": [
      "prcp\n"
     ]
    }
   ],
   "source": [
    "bucket = 3\n",
    "data = fileData.readline()\n",
    "data = data.split(',')\n",
    "print data[10]\n",
    "lines = fileData.readlines()\n",
    "for val in lines:\n",
    "    val = val.split(',')\n",
    "    #print val\n",
    "    if float(val[12]) > 0.0:\n",
    "        #print val[10]\n",
    "        dic[int(float(val[12])/bucket)] += 1\n",
    "        \n",
    "        date = parse(val[1])\n",
    "        string = str(date.month)+'/'+str(date.day)+'/'+str(date.year)\n",
    "        if string not in days[int(float(val[12])/bucket)]:\n",
    "            days[int(float(val[12])/bucket)].append(string)\n",
    "            \n",
    "#print days"
   ]
  },
  {
   "cell_type": "code",
   "execution_count": null,
   "metadata": {},
   "outputs": [],
   "source": [
    "prcp = sorted(dic)\n",
    "print prcp"
   ]
  },
  {
   "cell_type": "code",
   "execution_count": null,
   "metadata": {},
   "outputs": [],
   "source": [
    "result = []\n",
    "\n",
    "print days\n",
    "for each_prcp in prcp:\n",
    "    #print len(days[each_prcp])\n",
    "    result.append(dic[each_prcp]/len(days[each_prcp]))\n",
    "for i in range(len(prcp)):\n",
    "    prcp[i] = str(prcp[i]*2) + '-' + str(((prcp[i]+1)*2)-1)\n",
    "print prcp\n",
    "print result"
   ]
  },
  {
   "cell_type": "code",
   "execution_count": null,
   "metadata": {},
   "outputs": [],
   "source": [
    "plt.plot(result, label = \"snow(inches))\")\n",
    "plt.xticks([i for i in range(len(prcp))], prcp, rotation='vertical')\n",
    "\n",
    "plt.ylabel('Bike Count')\n",
    "plt.xlabel('Temperature')\n",
    "plt.legend()\n",
    "plt.show()\n",
    "plt.savefig('Weather.png')"
   ]
  },
  {
   "cell_type": "code",
   "execution_count": null,
   "metadata": {},
   "outputs": [],
   "source": []
  },
  {
   "cell_type": "code",
   "execution_count": null,
   "metadata": {},
   "outputs": [],
   "source": []
  }
 ],
 "metadata": {
  "kernelspec": {
   "display_name": "Python 2",
   "language": "python",
   "name": "python2"
  },
  "language_info": {
   "codemirror_mode": {
    "name": "ipython",
    "version": 2
   },
   "file_extension": ".py",
   "mimetype": "text/x-python",
   "name": "python",
   "nbconvert_exporter": "python",
   "pygments_lexer": "ipython2",
   "version": "2.7.12"
  }
 },
 "nbformat": 4,
 "nbformat_minor": 2
}
