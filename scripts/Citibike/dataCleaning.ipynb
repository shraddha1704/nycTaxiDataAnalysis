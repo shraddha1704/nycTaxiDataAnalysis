{
 "cells": [
  {
   "cell_type": "code",
   "execution_count": 1,
   "metadata": {},
   "outputs": [],
   "source": [
    "import collections\n",
    "from dateutil.parser import parse\n",
    "\n",
    "fileStation = open('station.csv', 'r')\n",
    "\n",
    "fileStation.readline()\n",
    "dic = collections.defaultdict(list)\n",
    "\n",
    "for line in fileStation.readlines():\n",
    "    lineSplit = line.split(',')\n",
    "    dic[lineSplit[0]] = [lineSplit[5],lineSplit[9],lineSplit[11]]\n",
    "    \n",
    "#print len(dic)\n",
    "fileStation.close()\n"
   ]
  },
  {
   "cell_type": "code",
   "execution_count": 2,
   "metadata": {},
   "outputs": [
    {
     "name": "stdout",
     "output_type": "stream",
     "text": [
      "['id', 'trip_duration', 'start_time', 'stop_time', 'start_station_id', 'end_station_id', 'bike_id', 'user_type', 'birth_year', 'gender', 'pickup_nyct2010_gid', 'dropoff_nyct2010_gid', 'pickup_location_id', 'dropoff_location_id', 'pickup', 'dropoff']\n"
     ]
    }
   ],
   "source": [
    "\n",
    "\n",
    "fileR = open('trips_5000_demo.csv','r')\n",
    "fileW = open('trips_5000_demo_clean.csv','w')\n",
    "\n",
    "f = \"%m%d%Y\"\n",
    "lineSplit = fileR.readline()[:-1].split(',')\n",
    "lineSplit.append(\"pickup_nyct2010_gid\")\n",
    "lineSplit.append(\"dropoff_nyct2010_gid\")\n",
    "lineSplit.append(\"pickup_location_id\")\n",
    "lineSplit.append(\"dropoff_location_id\")\n",
    "lineSplit.append(\"pickup\")\n",
    "lineSplit.append(\"dropoff\")\n",
    "print lineSplit\n",
    "column = [1, 2, 4, 5, 8, 9, 10, 11, 12, 13, 14, 15]\n",
    "string = ''\n",
    "\n",
    "for each_column in column:\n",
    "    string += lineSplit[each_column] + ','\n",
    "#string = string[:len(string)-2]\n",
    "string = string[:len(string)-1]\n",
    "string += '\\n'\n",
    "#print string\n",
    "fileW.write(string)\n",
    "\n",
    "for line in fileR.readlines():\n",
    "    line = line[:-1]\n",
    "    lineSplit = line.split(',')\n",
    "    if len(lineSplit[1])== 0 or len(lineSplit[2]) == 0 or len(lineSplit[4]) == 0 or len(lineSplit[5]) == 0 or len(lineSplit[8]) == 0 or len(lineSplit[9]) == 0:\n",
    "        continue     \n",
    "\n",
    "    column = [1, 2, 4, 5, 8, 9]\n",
    "    string = ''\n",
    "    d_str = ''\n",
    "    dateString = ''\n",
    "    \n",
    "    for each_column in column:\n",
    "        if each_column == 2:\n",
    "            d_str = parse(lineSplit[each_column])\n",
    "            dateString = str(d_str.month) + '/' + str(d_str.day) + '/' + str(d_str.year)\n",
    "            string += dateString + ','\n",
    "        else:\n",
    "            string += lineSplit[each_column] + ','\n",
    "    pickKey = lineSplit[4]\n",
    "    dropKey = lineSplit[5]\n",
    "    pickValue = dic[pickKey]\n",
    "    if len(pickValue[0]) == 0 or len(pickValue[1]) == 0 or len(pickValue[2]) == 0:\n",
    "        continue\n",
    "    dropValue = dic[dropKey]\n",
    "    if len(dropValue[0]) == 0 or len(dropValue[1]) == 0 or len(dropValue[2]) == 0:\n",
    "        continue\n",
    "    \n",
    "    string += pickValue[0] + ','\n",
    "    string += dropValue[0] + ','\n",
    "    string += pickValue[1] + ','\n",
    "    string += dropValue[1] + ','\n",
    "    string += pickValue[2][:-1] + ','\n",
    "    string += dropValue[2] \n",
    "    #string = string[:len(string)-1]\n",
    "    #string += '\\n'\n",
    "    \n",
    "    fileW.write(string)\n",
    "fileR.close()\n",
    "fileW.close()"
   ]
  },
  {
   "cell_type": "code",
   "execution_count": null,
   "metadata": {},
   "outputs": [],
   "source": []
  }
 ],
 "metadata": {
  "kernelspec": {
   "display_name": "Python 2",
   "language": "python",
   "name": "python2"
  },
  "language_info": {
   "codemirror_mode": {
    "name": "ipython",
    "version": 2
   },
   "file_extension": ".py",
   "mimetype": "text/x-python",
   "name": "python",
   "nbconvert_exporter": "python",
   "pygments_lexer": "ipython2",
   "version": "2.7.12"
  }
 },
 "nbformat": 4,
 "nbformat_minor": 2
}
