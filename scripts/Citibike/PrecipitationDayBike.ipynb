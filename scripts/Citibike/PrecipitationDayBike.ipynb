{
 "cells": [
  {
   "cell_type": "code",
   "execution_count": 8,
   "metadata": {},
   "outputs": [],
   "source": [
    "import pandas as pd\n",
    "import numpy as np\n",
    "import collections\n",
    "import matplotlib.pyplot as plt\n",
    "from scipy.stats import norm\n",
    "from dateutil.parser import parse"
   ]
  },
  {
   "cell_type": "code",
   "execution_count": 9,
   "metadata": {},
   "outputs": [],
   "source": [
    "fileData = open('CitibikeTripsWeather_10000000.csv','r')\n",
    "\n",
    "day1dic = collections.defaultdict(int)\n",
    "day2dic = collections.defaultdict(int)\n",
    "#days = collections.defaultdict(list)\n"
   ]
  },
  {
   "cell_type": "code",
   "execution_count": 10,
   "metadata": {},
   "outputs": [
    {
     "name": "stdout",
     "output_type": "stream",
     "text": [
      "defaultdict(<type 'int'>, {0: 109, 1: 46, 2: 5, 3: 5, 4: 8, 5: 45, 6: 164, 7: 237, 8: 476, 9: 368, 10: 138, 11: 88, 12: 94, 13: 76, 14: 97, 15: 133, 16: 129, 17: 167, 18: 168, 19: 108, 20: 64, 21: 44, 22: 24, 23: 25})\n",
      "defaultdict(<type 'int'>, {0: 200, 1: 97, 2: 38, 3: 22, 4: 48, 5: 155, 6: 846, 7: 1727, 8: 3185, 9: 2225, 10: 1150, 11: 1057, 12: 1352, 13: 1454, 14: 1350, 15: 1398, 16: 1954, 17: 3289, 18: 3299, 19: 2110, 20: 1296, 21: 900, 22: 735, 23: 402})\n"
     ]
    }
   ],
   "source": [
    "bucket = 1\n",
    "day1 = '2014-04-30'\n",
    "day2 = '2014-05-07'\n",
    "data = fileData.readline()\n",
    "#data = data.split(',')\n",
    "#print data[10]\n",
    "lines = fileData.readlines()\n",
    "for val in lines:\n",
    "    val = val.split(',')\n",
    "    #print val\n",
    "    date = val[1]\n",
    "    dateCopy = date.split(' ')\n",
    "    eachDate = dateCopy[0]\n",
    "    if eachDate == day1:\n",
    "        parsedDate = parse(date)\n",
    "        day1dic[parsedDate.hour] += 1\n",
    "        \n",
    "    if eachDate == day2:\n",
    "        parsedDate = parse(date)\n",
    "        day2dic[parsedDate.hour] += 1\n",
    "            \n",
    "print day1dic\n",
    "print day2dic"
   ]
  },
  {
   "cell_type": "code",
   "execution_count": 11,
   "metadata": {},
   "outputs": [
    {
     "data": {
      "image/png": "[encoded data removed]",
      "text/plain": [
       "<matplotlib.figure.Figure at 0x7f5602f51850>"
      ]
     },
     "metadata": {},
     "output_type": "display_data"
    }
   ],
   "source": [
    "plt.plot(day1dic.values(), label = 'Precipitation')\n",
    "plt.plot(day2dic.values(), label = 'No Precipitation')\n",
    "plt.xticks([i for i in range(24)], rotation='vertical')\n",
    "\n",
    "plt.ylabel('Number of Bikes')\n",
    "plt.xlabel('Hours')\n",
    "plt.legend(loc = 'upper left')\n",
    "plt.show()\n",
    "#plt.savefig('Weather.png')"
   ]
  },
  {
   "cell_type": "code",
   "execution_count": 12,
   "metadata": {},
   "outputs": [
    {
     "name": "stdout",
     "output_type": "stream",
     "text": [
      "1144.625\n"
     ]
    }
   ],
   "source": [
    "day1_mean = np.mean(day1dic.values())\n",
    "day2_mean = np.mean(day2dic.values())\n",
    "theta_hat = day1_mean-day2_mean\n",
    "t_obs=np.abs(theta_hat)\n",
    "\n",
    "day1_std = np.std(day1dic.values())\n",
    "day2_std = np.std(day2dic.values())\n",
    "se_hat = np.sqrt(day1_std**2/len(day1dic.values()) + day2_std**2/len(day2dic.values()) )\n",
    "W = t_obs/se_hat\n",
    "\n",
    "p=1-norm.cdf(W)\n",
    "\n",
    "print(t_obs)"
   ]
  },
  {
   "cell_type": "code",
   "execution_count": 13,
   "metadata": {},
   "outputs": [],
   "source": [
    "def permute(samples, t_obs):\n",
    "    N=100000\n",
    "    count=0\n",
    "    for i in range(N):\n",
    "        perm=np.random.permutation(samples)\n",
    "        diff = np.mean(perm[:10])-np.mean(perm[10:])\n",
    "        if diff>t_obs:\n",
    "            count+=1\n",
    "    \n",
    "    return count/float(N)"
   ]
  },
  {
   "cell_type": "code",
   "execution_count": 14,
   "metadata": {},
   "outputs": [
    {
     "name": "stdout",
     "output_type": "stream",
     "text": [
      "('p value :', 0.00079)\n"
     ]
    }
   ],
   "source": [
    "p_v = permute(day1dic.values()+day2dic.values(), t_obs)\n",
    "print(\"p value :\",p_v)"
   ]
  },
  {
   "cell_type": "code",
   "execution_count": null,
   "metadata": {},
   "outputs": [],
   "source": []
  }
 ],
 "metadata": {
  "kernelspec": {
   "display_name": "Python 2",
   "language": "python",
   "name": "python2"
  },
  "language_info": {
   "codemirror_mode": {
    "name": "ipython",
    "version": 2
   },
   "file_extension": ".py",
   "mimetype": "text/x-python",
   "name": "python",
   "nbconvert_exporter": "python",
   "pygments_lexer": "ipython2",
   "version": "2.7.15rc1"
  }
 },
 "nbformat": 4,
 "nbformat_minor": 2
}
